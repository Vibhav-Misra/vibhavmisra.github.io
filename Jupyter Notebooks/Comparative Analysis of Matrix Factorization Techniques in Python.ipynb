{
  "cells": [
    {
      "cell_type": "code",
      "execution_count": null,
      "id": "68f1221c",
      "metadata": {
        "id": "68f1221c"
      },
      "outputs": [],
      "source": [
        "import time\n",
        "import numpy as np\n",
        "from math import sqrt, cos, acos, pi"
      ]
    },
    {
      "cell_type": "markdown",
      "id": "9939cb7d",
      "metadata": {
        "id": "9939cb7d"
      },
      "source": [
        "# Eigenvalues and Eigenvectors"
      ]
    },
    {
      "cell_type": "markdown",
      "id": "68edd372",
      "metadata": {
        "id": "68edd372"
      },
      "source": [
        "### 1) Defining the matrix A"
      ]
    },
    {
      "cell_type": "code",
      "execution_count": null,
      "id": "0dbdaf01",
      "metadata": {
        "id": "0dbdaf01"
      },
      "outputs": [],
      "source": [
        "A = np.array([\n",
        "    [0, 1, 1],\n",
        "    [sqrt(2), 2, 0],\n",
        "    [0, 1, 1]\n",
        "])"
      ]
    },
    {
      "cell_type": "markdown",
      "id": "79adf746",
      "metadata": {
        "id": "79adf746"
      },
      "source": [
        "### 2) Computing the trace of matrix A"
      ]
    },
    {
      "cell_type": "code",
      "execution_count": null,
      "id": "66bdb624",
      "metadata": {
        "id": "66bdb624"
      },
      "outputs": [],
      "source": [
        "def compute_trace_manual(A):\n",
        "    trace = 0\n",
        "    for i in range(len(A)):\n",
        "        trace += A[i][i]\n",
        "    return trace"
      ]
    },
    {
      "cell_type": "markdown",
      "id": "e5926822",
      "metadata": {
        "id": "e5926822"
      },
      "source": [
        "### 3) Computing the determinant of a 3x3 matrix A"
      ]
    },
    {
      "cell_type": "code",
      "execution_count": null,
      "id": "e2afc536",
      "metadata": {
        "id": "e2afc536"
      },
      "outputs": [],
      "source": [
        "def compute_determinant_manual(A):\n",
        "    a = A[0][0]; b = A[0][1]; c = A[0][2]\n",
        "    d = A[1][0]; e = A[1][1]; f = A[1][2]\n",
        "    g = A[2][0]; h = A[2][1]; i = A[2][2]\n",
        "\n",
        "    determinant = (a * (e * i - f * h) -\n",
        "                   b * (d * i - f * g) +\n",
        "                   c * (d * h - e * g))\n",
        "    return determinant"
      ]
    },
    {
      "cell_type": "markdown",
      "id": "cbe24218",
      "metadata": {
        "id": "cbe24218"
      },
      "source": [
        "### 4) Computing the coefficients of the characteristic polynomial"
      ]
    },
    {
      "cell_type": "code",
      "execution_count": null,
      "id": "99bc9161",
      "metadata": {
        "id": "99bc9161"
      },
      "outputs": [],
      "source": [
        "def compute_characteristic_polynomial_coefficients(A):\n",
        "    p = compute_trace_manual(A)\n",
        "\n",
        "    minor1 = A[1][1]*A[2][2] - A[1][2]*A[2][1]\n",
        "    minor2 = A[0][0]*A[2][2] - A[0][2]*A[2][0]\n",
        "    minor3 = A[0][0]*A[1][1] - A[0][1]*A[1][0]\n",
        "    q = minor1 + minor2 + minor3\n",
        "\n",
        "    r = compute_determinant_manual(A)\n",
        "\n",
        "    return [1, -p, q, -r]"
      ]
    },
    {
      "cell_type": "markdown",
      "id": "6043700c",
      "metadata": {
        "id": "6043700c"
      },
      "source": [
        "### 5) Solving cubic equation ax^3 + bx^2 + cx + d = 0"
      ]
    },
    {
      "cell_type": "code",
      "execution_count": null,
      "id": "661c0f4e",
      "metadata": {
        "id": "661c0f4e"
      },
      "outputs": [],
      "source": [
        "def solve_cubic(coeffs):\n",
        "    a, b, c, d = coeffs\n",
        "\n",
        "    p = (3*a*c - b**2) / (3*a**2)\n",
        "    q = (2*b**3 - 9*a*b*c + 27*a**2*d) / (27*a**3)\n",
        "\n",
        "    discriminant = (q/2)**2 + (p/3)**3\n",
        "\n",
        "    if discriminant > 0:\n",
        "        u = (-q/2 + sqrt(discriminant))**(1/3)\n",
        "        v = (-q/2 - sqrt(discriminant))**(1/3)\n",
        "        root1 = u + v - b / (3*a)\n",
        "        roots = [root1]\n",
        "    elif discriminant == 0:\n",
        "        u = (-q/2)**(1/3)\n",
        "        root1 = 2*u - b / (3*a)\n",
        "        root2 = -u - b / (3*a)\n",
        "        roots = [root1, root2]\n",
        "    else:\n",
        "        r = sqrt(-p**3/27)\n",
        "        theta = acos(-q/(2*r))\n",
        "        r = (-p/3)**(1/2)\n",
        "        root1 = 2*r*cos(theta/3) - b / (3*a)\n",
        "        root2 = 2*r*cos((theta + 2*pi)/3) - b / (3*a)\n",
        "        root3 = 2*r*cos((theta + 4*pi)/3) - b / (3*a)\n",
        "        roots = [root1, root2, root3]\n",
        "    return roots"
      ]
    },
    {
      "cell_type": "markdown",
      "id": "e640e5c9",
      "metadata": {
        "id": "e640e5c9"
      },
      "source": [
        "### 6) Computing Eigenvalues and Eigenvectors"
      ]
    },
    {
      "cell_type": "code",
      "execution_count": null,
      "id": "99d0d6f1",
      "metadata": {
        "id": "99d0d6f1"
      },
      "outputs": [],
      "source": [
        "def compute_eigenvalues_eigenvectors_manual(A):\n",
        "    coeffs = compute_characteristic_polynomial_coefficients(A)\n",
        "    eigenvalues = solve_cubic(coeffs)\n",
        "\n",
        "    eigenvectors = []\n",
        "    for eigenvalue in eigenvalues:\n",
        "        M = A - eigenvalue * np.identity(3)\n",
        "        row1 = M[0]\n",
        "        row2 = M[1]\n",
        "        eigenvector = np.cross(row1, row2)\n",
        "        if np.linalg.norm(eigenvector) == 0:\n",
        "            row1 = M[1]\n",
        "            row2 = M[2]\n",
        "            eigenvector = np.cross(row1, row2)\n",
        "            if np.linalg.norm(eigenvector) == 0:\n",
        "                row1 = M[0]\n",
        "                row2 = M[2]\n",
        "                eigenvector = np.cross(row1, row2)\n",
        "        eigenvector = eigenvector / np.linalg.norm(eigenvector)\n",
        "        eigenvectors.append(eigenvector.real)\n",
        "\n",
        "    eigenvalues = np.array(eigenvalues).real\n",
        "    eigenvectors = np.array(eigenvectors).T\n",
        "\n",
        "    return eigenvalues, eigenvectors"
      ]
    },
    {
      "cell_type": "markdown",
      "id": "96547b6e",
      "metadata": {
        "id": "96547b6e"
      },
      "source": [
        "### Runtime Comparison"
      ]
    },
    {
      "cell_type": "code",
      "execution_count": null,
      "id": "fc41212e",
      "metadata": {
        "colab": {
          "base_uri": "https://localhost:8080/"
        },
        "id": "fc41212e",
        "outputId": "a81f34f1-450c-42fe-9786-5ab2fdb3e066"
      },
      "outputs": [
        {
          "output_type": "stream",
          "name": "stdout",
          "text": [
            "Custom Eigenvalues:\n",
            " [ 2.79004402e+00 -6.66133815e-16  2.09955984e-01]\n",
            "Custom Eigenvectors:\n",
            " [[ 0.43834959 -0.70710678 -0.61731105]\n",
            " [ 0.78466507  0.5         0.4877029 ]\n",
            " [ 0.43834959 -0.5        -0.61731105]]\n",
            "Custom Function Runtime: 0.003560781478881836 seconds\n",
            "\n",
            "NumPy Eigenvalues:\n",
            " [ 2.79004402e+00 -2.63339565e-19  2.09955984e-01]\n",
            "NumPy Eigenvectors:\n",
            " [[-0.43834959  0.70710678  0.61731105]\n",
            " [-0.78466507 -0.5        -0.4877029 ]\n",
            " [-0.43834959  0.5         0.61731105]]\n",
            "NumPy Function Runtime: 0.0005056858062744141 seconds\n"
          ]
        }
      ],
      "source": [
        "start_time = time.time()\n",
        "custom_eigenvalues, custom_eigenvectors = compute_eigenvalues_eigenvectors_manual(A)\n",
        "custom_runtime = time.time() - start_time\n",
        "\n",
        "start_time = time.time()\n",
        "numpy_eigenvalues, numpy_eigenvectors = np.linalg.eig(A)\n",
        "numpy_runtime = time.time() - start_time\n",
        "\n",
        "print(\"Custom Eigenvalues:\\n\", custom_eigenvalues)\n",
        "print(\"Custom Eigenvectors:\\n\", custom_eigenvectors)\n",
        "print(\"Custom Function Runtime:\", custom_runtime, \"seconds\\n\")\n",
        "\n",
        "print(\"NumPy Eigenvalues:\\n\", numpy_eigenvalues)\n",
        "print(\"NumPy Eigenvectors:\\n\", numpy_eigenvectors)\n",
        "print(\"NumPy Function Runtime:\", numpy_runtime, \"seconds\")"
      ]
    },
    {
      "cell_type": "markdown",
      "id": "1e289245",
      "metadata": {
        "id": "1e289245"
      },
      "source": [
        "# Principal Components"
      ]
    },
    {
      "cell_type": "markdown",
      "id": "a0aadd0c",
      "metadata": {
        "id": "a0aadd0c"
      },
      "source": [
        "### 1) Computing the covariance matrix of matrix A"
      ]
    },
    {
      "cell_type": "code",
      "execution_count": null,
      "id": "83c36ec0",
      "metadata": {
        "id": "83c36ec0"
      },
      "outputs": [],
      "source": [
        "def compute_covariance_matrix_manual(A):\n",
        "    n_samples = A.shape[0]\n",
        "    mean_centered = A - np.mean(A, axis=0)\n",
        "    covariance_matrix = np.zeros((A.shape[1], A.shape[1]))\n",
        "    for i in range(A.shape[1]):\n",
        "        for j in range(A.shape[1]):\n",
        "            covariance_matrix[i][j] = np.sum(mean_centered[:, i] * mean_centered[:, j]) / (n_samples - 1)\n",
        "    return covariance_matrix"
      ]
    },
    {
      "cell_type": "markdown",
      "id": "9344d458",
      "metadata": {
        "id": "9344d458"
      },
      "source": [
        "### 2) Computing the principal components of matrix A"
      ]
    },
    {
      "cell_type": "code",
      "execution_count": null,
      "id": "6906316a",
      "metadata": {
        "id": "6906316a"
      },
      "outputs": [],
      "source": [
        "def compute_pca_manual(A, n_components=None):\n",
        "    A_meaned = A - np.mean(A, axis=0)\n",
        "\n",
        "    covariance_matrix = compute_covariance_matrix_manual(A)\n",
        "\n",
        "    #Here, We've reused our manually implemented eigenvalue and eigenvector computation function.\n",
        "\n",
        "    eigenvalues, eigenvectors = compute_eigenvalues_eigenvectors_manual(covariance_matrix)\n",
        "\n",
        "    sorted_idx = np.argsort(eigenvalues)[::-1]\n",
        "    sorted_eigenvalues = eigenvalues[sorted_idx]\n",
        "    sorted_eigenvectors = eigenvectors[:, sorted_idx]\n",
        "\n",
        "    explained_variance = sorted_eigenvalues / np.sum(sorted_eigenvalues)\n",
        "\n",
        "    if n_components is not None:\n",
        "        sorted_eigenvectors = sorted_eigenvectors[:, :n_components]\n",
        "        explained_variance = explained_variance[:n_components]\n",
        "\n",
        "    principal_components = np.dot(A_meaned, sorted_eigenvectors)\n",
        "\n",
        "    return principal_components, explained_variance, sorted_eigenvectors"
      ]
    },
    {
      "cell_type": "markdown",
      "id": "f1ca46f3",
      "metadata": {
        "id": "f1ca46f3"
      },
      "source": [
        "### Runtime Comparison"
      ]
    },
    {
      "cell_type": "code",
      "execution_count": null,
      "id": "04ac3e7c",
      "metadata": {
        "colab": {
          "base_uri": "https://localhost:8080/"
        },
        "id": "04ac3e7c",
        "outputId": "8072cc04-dcf3-44b7-e492-3806c27e71e4"
      },
      "outputs": [
        {
          "output_type": "stream",
          "name": "stdout",
          "text": [
            "\n",
            "Custom Principal Components:\n",
            " [[ 0.66666667]\n",
            " [-1.33333333]\n",
            " [ 0.66666667]]\n",
            "Explained Variance:\n",
            " [1.]\n",
            "Custom PCA Runtime: 0.0015196800231933594 seconds\n",
            "\n",
            "Scikit-Learn Principal Components:\n",
            " [[-6.66666667e-01  0.00000000e+00  0.00000000e+00]\n",
            " [ 1.33333333e+00  2.22044605e-16  1.11022302e-16]\n",
            " [-6.66666667e-01  0.00000000e+00  0.00000000e+00]]\n",
            "Explained Variance:\n",
            " [1.00000000e+00 1.42738564e-32 7.48397169e-34]\n",
            "Scikit-Learn PCA Runtime: 0.0016303062438964844 seconds\n"
          ]
        }
      ],
      "source": [
        "start_time = time.time()\n",
        "custom_pcs, custom_explained_variance, custom_eigenvectors = compute_pca_manual(A)\n",
        "custom_pca_runtime = time.time() - start_time\n",
        "\n",
        "from sklearn.decomposition import PCA\n",
        "start_time = time.time()\n",
        "pca = PCA()\n",
        "pca.fit(A)\n",
        "sklearn_pca_runtime = time.time() - start_time\n",
        "\n",
        "print(\"\\nCustom Principal Components:\\n\", custom_pcs)\n",
        "print(\"Explained Variance:\\n\", custom_explained_variance)\n",
        "print(\"Custom PCA Runtime:\", custom_pca_runtime, \"seconds\\n\")\n",
        "\n",
        "print(\"Scikit-Learn Principal Components:\\n\", pca.transform(A))\n",
        "print(\"Explained Variance:\\n\", pca.explained_variance_ratio_)\n",
        "print(\"Scikit-Learn PCA Runtime:\", sklearn_pca_runtime, \"seconds\")"
      ]
    },
    {
      "cell_type": "markdown",
      "id": "2035e979",
      "metadata": {
        "id": "2035e979"
      },
      "source": [
        "# Singular Values"
      ]
    },
    {
      "cell_type": "markdown",
      "id": "053d7418",
      "metadata": {
        "id": "053d7418"
      },
      "source": [
        "### 1) Multiplying two matrices X and Y"
      ]
    },
    {
      "cell_type": "code",
      "execution_count": null,
      "id": "6c3a6d3e",
      "metadata": {
        "id": "6c3a6d3e"
      },
      "outputs": [],
      "source": [
        "def matrix_multiply_manual(X, Y):\n",
        "    result = np.zeros((X.shape[0], Y.shape[1]))\n",
        "    for i in range(X.shape[0]):\n",
        "        for j in range(Y.shape[1]):\n",
        "            sum = 0\n",
        "            for k in range(X.shape[1]):\n",
        "                sum += X[i][k] * Y[k][j]\n",
        "            result[i][j] = sum\n",
        "    return result"
      ]
    },
    {
      "cell_type": "markdown",
      "id": "16b2f62b",
      "metadata": {
        "id": "16b2f62b"
      },
      "source": [
        "### 2) Computing the Singular Value Decomposition of matrix A"
      ]
    },
    {
      "cell_type": "code",
      "execution_count": null,
      "id": "cba34406",
      "metadata": {
        "id": "cba34406"
      },
      "outputs": [],
      "source": [
        "def compute_svd_manual(A):\n",
        "    At = A.T\n",
        "    AtA = matrix_multiply_manual(At, A)\n",
        "    AAt = matrix_multiply_manual(A, At)\n",
        "\n",
        "    #Here, We've reused our manually implemented eigenvalue and eigenvector computation function.\n",
        "\n",
        "    eigenvalues_V, eigenvectors_V = compute_eigenvalues_eigenvectors_manual(AtA)\n",
        "    eigenvalues_U, eigenvectors_U = compute_eigenvalues_eigenvectors_manual(AAt)\n",
        "\n",
        "    singular_values = np.sqrt(eigenvalues_V)\n",
        "\n",
        "    sorted_idx = np.argsort(singular_values)[::-1]\n",
        "    singular_values = singular_values[sorted_idx]\n",
        "    U = eigenvectors_U[:, sorted_idx]\n",
        "    V = eigenvectors_V[:, sorted_idx]\n",
        "\n",
        "    Sigma = np.zeros_like(A, dtype=float)\n",
        "    min_dim = min(A.shape)\n",
        "    for i in range(min_dim):\n",
        "        Sigma[i][i] = singular_values[i]\n",
        "\n",
        "    return U, Sigma, V.T"
      ]
    },
    {
      "cell_type": "markdown",
      "id": "9e8cfe0a",
      "metadata": {
        "id": "9e8cfe0a"
      },
      "source": [
        "### Runtime Comparison"
      ]
    },
    {
      "cell_type": "code",
      "execution_count": null,
      "id": "74e847ab",
      "metadata": {
        "colab": {
          "base_uri": "https://localhost:8080/"
        },
        "id": "74e847ab",
        "outputId": "9106443e-7686-482a-9b8d-9138e9140d56"
      },
      "outputs": [
        {
          "output_type": "stream",
          "name": "stdout",
          "text": [
            "\n",
            "Custom SVD U:\n",
            " [[ 0.40824829 -0.57735027 -0.70710678]\n",
            " [ 0.81649658  0.57735027  0.        ]\n",
            " [ 0.40824829 -0.57735027  0.70710678]]\n",
            "Custom Singular Values:\n",
            " [2.82842712 1.41421356 0.        ]\n",
            "Custom SVD V^T:\n",
            " [[ 4.08248290e-01  8.66025404e-01  2.88675135e-01]\n",
            " [ 5.77350269e-01 -3.62597321e-16 -8.16496581e-01]\n",
            " [ 7.07106781e-01 -5.00000000e-01  5.00000000e-01]]\n",
            "Custom SVD Runtime: 0.004405021667480469 seconds\n",
            "\n",
            "NumPy SVD U:\n",
            " [[-0.40824829  0.57735027 -0.70710678]\n",
            " [-0.81649658 -0.57735027  0.        ]\n",
            " [-0.40824829  0.57735027  0.70710678]]\n",
            "NumPy Singular Values:\n",
            " [2.82842712 1.41421356 0.        ]\n",
            "NumPy SVD V^T:\n",
            " [[-4.08248290e-01 -8.66025404e-01 -2.88675135e-01]\n",
            " [-5.77350269e-01 -4.89172797e-17  8.16496581e-01]\n",
            " [ 7.07106781e-01 -5.00000000e-01  5.00000000e-01]]\n",
            "NumPy SVD Runtime: 0.0004723072052001953 seconds\n"
          ]
        }
      ],
      "source": [
        "start_time = time.time()\n",
        "custom_U, custom_Sigma, custom_Vt = compute_svd_manual(A)\n",
        "custom_svd_runtime = time.time() - start_time\n",
        "\n",
        "start_time = time.time()\n",
        "numpy_U, numpy_S, numpy_Vt = np.linalg.svd(A)\n",
        "numpy_svd_runtime = time.time() - start_time\n",
        "\n",
        "print(\"\\nCustom SVD U:\\n\", custom_U)\n",
        "print(\"Custom Singular Values:\\n\", np.diag(custom_Sigma))\n",
        "print(\"Custom SVD V^T:\\n\", custom_Vt)\n",
        "print(\"Custom SVD Runtime:\", custom_svd_runtime, \"seconds\\n\")\n",
        "\n",
        "print(\"NumPy SVD U:\\n\", numpy_U)\n",
        "print(\"NumPy Singular Values:\\n\", numpy_S)\n",
        "print(\"NumPy SVD V^T:\\n\", numpy_Vt)\n",
        "print(\"NumPy SVD Runtime:\", numpy_svd_runtime, \"seconds\")"
      ]
    },
    {
      "cell_type": "code",
      "execution_count": null,
      "id": "43cf780a",
      "metadata": {
        "id": "43cf780a"
      },
      "outputs": [],
      "source": []
    }
  ],
  "metadata": {
    "kernelspec": {
      "display_name": "Python 3 (ipykernel)",
      "language": "python",
      "name": "python3"
    },
    "language_info": {
      "codemirror_mode": {
        "name": "ipython",
        "version": 3
      },
      "file_extension": ".py",
      "mimetype": "text/x-python",
      "name": "python",
      "nbconvert_exporter": "python",
      "pygments_lexer": "ipython3",
      "version": "3.9.7"
    },
    "colab": {
      "provenance": []
    }
  },
  "nbformat": 4,
  "nbformat_minor": 5
}